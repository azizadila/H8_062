{
  "nbformat": 4,
  "nbformat_minor": 0,
  "metadata": {
    "colab": {
      "name": "PYTN_Assgn_2_batch_062_Aziza Noor Fadhila",
      "provenance": [],
      "collapsed_sections": [],
      "authorship_tag": "ABX9TyOm5bj/QoI5o7OzFNm2ad/s",
      "include_colab_link": true
    },
    "kernelspec": {
      "name": "python3",
      "display_name": "Python 3"
    },
    "language_info": {
      "name": "python"
    }
  },
  "cells": [
    {
      "cell_type": "markdown",
      "metadata": {
        "id": "view-in-github",
        "colab_type": "text"
      },
      "source": [
        "<a href=\"https://colab.research.google.com/github/azizadila/H8_062/blob/main/PYTN_Assgn_2_batch_062_Aziza_Noor_Fadhila.ipynb\" target=\"_parent\"><img src=\"https://colab.research.google.com/assets/colab-badge.svg\" alt=\"Open In Colab\"/></a>"
      ]
    },
    {
      "cell_type": "code",
      "metadata": {
        "id": "nTZcxyUHxSJv",
        "colab": {
          "base_uri": "https://localhost:8080/"
        },
        "outputId": "1442862d-2fee-4c15-8ede-ca28487ea999"
      },
      "source": [
        "# IMPORT NUMPY DAN PANDAS\n",
        "\n",
        "import math\n",
        "import statistics\n",
        "import scipy.stats as st\n",
        "import numpy as np\n",
        "import pandas as pd\n",
        "import random\n",
        "import warnings\n",
        "import statsmodels.api as sm\n",
        "import scipy.stats.distributions as dist\n",
        "import scipy.stats as stats"
      ],
      "execution_count": null,
      "outputs": [
        {
          "output_type": "stream",
          "name": "stderr",
          "text": [
            "/usr/local/lib/python3.7/dist-packages/statsmodels/tools/_testing.py:19: FutureWarning: pandas.util.testing is deprecated. Use the functions in the public API at pandas.testing instead.\n",
            "  import pandas.util.testing as tm\n"
          ]
        }
      ]
    },
    {
      "cell_type": "code",
      "metadata": {
        "id": "7dwD5DpXxTq1"
      },
      "source": [
        "%matplotlib inline\n",
        "import matplotlib.pyplot as plt\n",
        "from IPython.display import Math, Latex\n",
        "#from IPyhton.core.display import Image"
      ],
      "execution_count": null,
      "outputs": []
    },
    {
      "cell_type": "code",
      "metadata": {
        "id": "vgS2XNLBxVRn"
      },
      "source": [
        "import seaborn as sns\n",
        "sns.set(color_codes=True)\n",
        "sns.set(rc={'figure.figsize':(5,5)})"
      ],
      "execution_count": null,
      "outputs": []
    },
    {
      "cell_type": "code",
      "metadata": {
        "colab": {
          "base_uri": "https://localhost:8080/"
        },
        "id": "x2dUtFd_xXUY",
        "outputId": "a4341af2-2d5f-43bf-df86-40e4492a6d3b"
      },
      "source": [
        "# EXTRACT DATA FROM GDRIVE\n",
        "\n",
        "from google.colab import drive\n",
        "drive.mount('/content/drive')\n",
        "\n",
        "df = pd.read_csv(\"/content/drive/MyDrive/Assignment 1/nyc-rolling-sales.csv\")\n",
        "df = df.loc[:, ~df.columns.str.contains('^Unnamed')]\n",
        "print('Data has been downloaded and read into a dataframe')\n",
        "\n",
        "# CLEANSING DATA (RENAME, DAN HAPUS KOLOM)\n",
        "\n",
        "df.drop(df[df['SALE PRICE'] == ' -  '].index,inplace=True)\n",
        "df['SALE PRICE'] = pd.to_numeric(df['SALE PRICE'])\n",
        "df = df.drop(df.loc[df['SALE PRICE'] <= 100].index)\n",
        "df['SALE DATE'] = pd.to_datetime(df['SALE DATE']).dt.normalize()\n",
        "\n",
        "#membuat kolom baru berdasarkan tahun sale date\n",
        "df['YEAR'] = df['SALE DATE'].dt.year\n",
        "df['MONTH'] = df['SALE DATE'].dt.month\n",
        "\n",
        "print('data dimensions:', df.shape)\n",
        "\n",
        "print(df.head())"
      ],
      "execution_count": null,
      "outputs": [
        {
          "output_type": "stream",
          "name": "stdout",
          "text": [
            "Mounted at /content/drive\n",
            "Data has been downloaded and read into a dataframe\n",
            "data dimensions: (58757, 23)\n",
            "   BOROUGH   NEIGHBORHOOD  ...  YEAR MONTH\n",
            "0        1  ALPHABET CITY  ...  2017     7\n",
            "3        1  ALPHABET CITY  ...  2016     9\n",
            "4        1  ALPHABET CITY  ...  2016    11\n",
            "6        1  ALPHABET CITY  ...  2016     9\n",
            "9        1  ALPHABET CITY  ...  2016    11\n",
            "\n",
            "[5 rows x 23 columns]\n"
          ]
        }
      ]
    },
    {
      "cell_type": "code",
      "metadata": {
        "colab": {
          "base_uri": "https://localhost:8080/",
          "height": 1000
        },
        "id": "9AAH8B-a3to8",
        "outputId": "b30e6e03-d32d-4ac9-d188-c6c466e0f536"
      },
      "source": [
        "#MENCARI COMMERCIAL BUILDING DENGAN HARGA TERTINGGI\n",
        "\n",
        "#FILTERING DAN SORTING DATA YANG AKAN DIGUNAKNA\n",
        "df_year = df[(df['RESIDENTIAL UNITS']==0)&(df[\"COMMERCIAL UNITS\"]>0)]\n",
        "df_sale= df_year.loc[:,('NEIGHBORHOOD','BUILDING CLASS CATEGORY','BUILDING CLASS AT TIME OF SALE','SALE PRICE','YEAR','MONTH')]\n",
        "df_sale.sort_values(by=['SALE PRICE'],inplace=True,ascending=False)\n",
        "print(df_sale)\n",
        "\n",
        "#MENCARI TOP 10 HARGA BANGUNAN TERTINGGI\n",
        "df_top = df_sale.head(10)\n",
        "#print(df_top)\n",
        "\n",
        "#PLOTTING BARCHART\n",
        "sns.set_style('darkgrid')\n",
        "sns.barplot(df_top['SALE PRICE'],df_top['NEIGHBORHOOD'])\n",
        "plt.title('COMMERCIAL UNIT NEIGHBORHOOD WITH HIGHEST SALE PRICE BETWEEN 2016 - 2017',y=1.02)\n",
        "plt.show()\n",
        "\n",
        "df_top.iloc[:11,:4]"
      ],
      "execution_count": null,
      "outputs": [
        {
          "output_type": "stream",
          "name": "stdout",
          "text": [
            "           NEIGHBORHOOD  ... MONTH\n",
            "7447        MIDTOWN CBD  ...     5\n",
            "2559          FINANCIAL  ...     1\n",
            "2557          FINANCIAL  ...     5\n",
            "2050            FASHION  ...    11\n",
            "6317      JAVITS CENTER  ...    12\n",
            "...                 ...  ...   ...\n",
            "38490     FLATBUSH-EAST  ...     3\n",
            "18780        BAYCHESTER  ...     4\n",
            "37674  FLATBUSH-CENTRAL  ...     4\n",
            "38533     FLATBUSH-EAST  ...     4\n",
            "37168     EAST NEW YORK  ...    10\n",
            "\n",
            "[1281 rows x 6 columns]\n"
          ]
        },
        {
          "output_type": "stream",
          "name": "stderr",
          "text": [
            "/usr/local/lib/python3.7/dist-packages/seaborn/_decorators.py:43: FutureWarning: Pass the following variables as keyword args: x, y. From version 0.12, the only valid positional argument will be `data`, and passing other arguments without an explicit keyword will result in an error or misinterpretation.\n",
            "  FutureWarning\n"
          ]
        },
        {
          "output_type": "display_data",
          "data": {
            "image/png": "[encoded data removed]",
            "text/plain": [
              "<Figure size 360x360 with 1 Axes>"
            ]
          },
          "metadata": {}
        },
        {
          "output_type": "execute_result",
          "data": {
            "text/html": [
              "<div>\n",
              "<style scoped>\n",
              "    .dataframe tbody tr th:only-of-type {\n",
              "        vertical-align: middle;\n",
              "    }\n",
              "\n",
              "    .dataframe tbody tr th {\n",
              "        vertical-align: top;\n",
              "    }\n",
              "\n",
              "    .dataframe thead th {\n",
              "        text-align: right;\n",
              "    }\n",
              "</style>\n",
              "<table border=\"1\" class=\"dataframe\">\n",
              "  <thead>\n",
              "    <tr style=\"text-align: right;\">\n",
              "      <th></th>\n",
              "      <th>NEIGHBORHOOD</th>\n",
              "      <th>BUILDING CLASS CATEGORY</th>\n",
              "      <th>BUILDING CLASS AT TIME OF SALE</th>\n",
              "      <th>SALE PRICE</th>\n",
              "    </tr>\n",
              "  </thead>\n",
              "  <tbody>\n",
              "    <tr>\n",
              "      <th>7447</th>\n",
              "      <td>MIDTOWN CBD</td>\n",
              "      <td>21 OFFICE BUILDINGS</td>\n",
              "      <td>O4</td>\n",
              "      <td>2210000000</td>\n",
              "    </tr>\n",
              "    <tr>\n",
              "      <th>2559</th>\n",
              "      <td>FINANCIAL</td>\n",
              "      <td>21 OFFICE BUILDINGS</td>\n",
              "      <td>O4</td>\n",
              "      <td>1040000000</td>\n",
              "    </tr>\n",
              "    <tr>\n",
              "      <th>2557</th>\n",
              "      <td>FINANCIAL</td>\n",
              "      <td>21 OFFICE BUILDINGS</td>\n",
              "      <td>O4</td>\n",
              "      <td>652000000</td>\n",
              "    </tr>\n",
              "    <tr>\n",
              "      <th>2050</th>\n",
              "      <td>FASHION</td>\n",
              "      <td>21 OFFICE BUILDINGS</td>\n",
              "      <td>O4</td>\n",
              "      <td>565000000</td>\n",
              "    </tr>\n",
              "    <tr>\n",
              "      <th>6317</th>\n",
              "      <td>JAVITS CENTER</td>\n",
              "      <td>21 OFFICE BUILDINGS</td>\n",
              "      <td>O3</td>\n",
              "      <td>330000000</td>\n",
              "    </tr>\n",
              "    <tr>\n",
              "      <th>9594</th>\n",
              "      <td>MIDTOWN WEST</td>\n",
              "      <td>21 OFFICE BUILDINGS</td>\n",
              "      <td>O5</td>\n",
              "      <td>268124175</td>\n",
              "    </tr>\n",
              "    <tr>\n",
              "      <th>66508</th>\n",
              "      <td>LONG ISLAND CITY</td>\n",
              "      <td>27 FACTORIES</td>\n",
              "      <td>F9</td>\n",
              "      <td>257500000</td>\n",
              "    </tr>\n",
              "    <tr>\n",
              "      <th>4781</th>\n",
              "      <td>GREENWICH VILLAGE-WEST</td>\n",
              "      <td>21 OFFICE BUILDINGS</td>\n",
              "      <td>O3</td>\n",
              "      <td>205961801</td>\n",
              "    </tr>\n",
              "    <tr>\n",
              "      <th>2565</th>\n",
              "      <td>FINANCIAL</td>\n",
              "      <td>25 LUXURY HOTELS</td>\n",
              "      <td>H2</td>\n",
              "      <td>203345000</td>\n",
              "    </tr>\n",
              "    <tr>\n",
              "      <th>6681</th>\n",
              "      <td>KIPS BAY</td>\n",
              "      <td>26 OTHER HOTELS</td>\n",
              "      <td>H8</td>\n",
              "      <td>174000000</td>\n",
              "    </tr>\n",
              "  </tbody>\n",
              "</table>\n",
              "</div>"
            ],
            "text/plain": [
              "                 NEIGHBORHOOD  ...  SALE PRICE\n",
              "7447              MIDTOWN CBD  ...  2210000000\n",
              "2559                FINANCIAL  ...  1040000000\n",
              "2557                FINANCIAL  ...   652000000\n",
              "2050                  FASHION  ...   565000000\n",
              "6317            JAVITS CENTER  ...   330000000\n",
              "9594             MIDTOWN WEST  ...   268124175\n",
              "66508        LONG ISLAND CITY  ...   257500000\n",
              "4781   GREENWICH VILLAGE-WEST  ...   205961801\n",
              "2565                FINANCIAL  ...   203345000\n",
              "6681                 KIPS BAY  ...   174000000\n",
              "\n",
              "[10 rows x 4 columns]"
            ]
          },
          "metadata": {},
          "execution_count": 6
        }
      ]
    },
    {
      "cell_type": "markdown",
      "metadata": {
        "id": "dpc6771j8mNv"
      },
      "source": [
        "Dari barchart diatas dapat ditarik kesimpulan sebagai berikut :\n",
        "\n",
        "\n",
        "*   Neighborhood dengan nilai jual tertinggi ada pada  setiap tahunnya jatuh pada MIDTOWN CBD, FINANCIAL, dan FASHION\n",
        "*   MIDTOWN CBD sendiri merupakan central business district yang mana fokus pada bangunan commercial, sehingga nilai jualnya jauh diatas area/neighborhood lainnya\n",
        "*   Building Class dengan nilai jual tertinggi jatuh pada Office Building\n",
        "\n",
        "\n",
        "\n"
      ]
    },
    {
      "cell_type": "code",
      "metadata": {
        "colab": {
          "base_uri": "https://localhost:8080/",
          "height": 492
        },
        "id": "WhqFZ0OOzGL1",
        "outputId": "916f350d-fa0c-4869-91f8-d4729b861a94"
      },
      "source": [
        "sales = np.log(df_sale['SALE PRICE'])\n",
        "print(\"Skewness =\",sales.skew())\n",
        "sns.distplot(sales)\n",
        "plt.title(\"Distribution of Commercial Unit Sales Price between 2016-2017\",y=1.02)\n",
        "\n",
        "print(\"Nilai tengah\",sales.mean())\n",
        "print(\"Nilai rata-rata\",sales.mode())"
      ],
      "execution_count": null,
      "outputs": [
        {
          "output_type": "stream",
          "name": "stdout",
          "text": [
            "Skewness = -0.29598916585516566\n",
            "Nilai tengah 14.578415830482596\n",
            "Nilai rata-rata 0    14.508658\n",
            "dtype: float64\n"
          ]
        },
        {
          "output_type": "stream",
          "name": "stderr",
          "text": [
            "/usr/local/lib/python3.7/dist-packages/seaborn/distributions.py:2619: FutureWarning: `distplot` is a deprecated function and will be removed in a future version. Please adapt your code to use either `displot` (a figure-level function with similar flexibility) or `histplot` (an axes-level function for histograms).\n",
            "  warnings.warn(msg, FutureWarning)\n"
          ]
        },
        {
          "output_type": "display_data",
          "data": {
            "image/png": "[encoded data removed]",
            "text/plain": [
              "<Figure size 360x360 with 1 Axes>"
            ]
          },
          "metadata": {}
        }
      ]
    },
    {
      "cell_type": "markdown",
      "metadata": {
        "id": "Csn-UElrJPxc"
      },
      "source": [
        "Dari nilai skewness diatas dapat disimpulkan bahwa SALE PRICE dari tahun 2016 - 2017 memiliki negative skewness/kemiringan negatif yang berarti distribusi data miri ke kiri dan mean lebih kecil dari mode"
      ]
    },
    {
      "cell_type": "code",
      "metadata": {
        "colab": {
          "base_uri": "https://localhost:8080/",
          "height": 733
        },
        "id": "qrzJsABKZGpm",
        "outputId": "bdaa74f1-b86d-4436-dc96-5cbbb10773d9"
      },
      "source": [
        "#SETELAH MEMPEROLEH NEIGHBORHOOD DENGAN PENJUALAN TERMAHAL, SEKARANG PERLU MENCARI NEIGHBORHOOD DENGAN UNIT TERJUAL PALING BANYAK\n",
        "\n",
        "#MENCARI NEIGHBORHOOD DENGAN JUMLAH UNIT TERJUAL TERTINGGI DI TAHUN 2017 KARENA DIBUTUHKAN SAMPLE YANG JUMLAH DATANYA BANYAK\n",
        "\n",
        "df_new = pd.crosstab(df_sale[\"NEIGHBORHOOD\"],df_sale[\"YEAR\"])\n",
        "df_new[\"Total\"]=df_new[2016]+df_new[2017]\n",
        "df_new.sort_values(by=['Total'],inplace=True,ascending=False)\n",
        "print(df_new)\n",
        "\n",
        "mdw = df_sale[(df_sale[\"NEIGHBORHOOD\"] == 'MIDTOWN WEST')&(df_sale['YEAR'] == 2017)]\n",
        "mdw.iloc[:,:6]"
      ],
      "execution_count": null,
      "outputs": [
        {
          "output_type": "stream",
          "name": "stdout",
          "text": [
            "YEAR                    2016  2017  Total\n",
            "NEIGHBORHOOD                             \n",
            "MIDTOWN WEST              57    13     70\n",
            "ASTORIA                   22    17     39\n",
            "LONG ISLAND CITY          21    17     38\n",
            "FLUSHING-NORTH            16    17     33\n",
            "MOTT HAVEN/PORT MORRIS     9    15     24\n",
            "...                      ...   ...    ...\n",
            "HOLLISWOOD                 0     1      1\n",
            "DONGAN HILLS-COLONY        0     1      1\n",
            "GRASMERE                   1     0      1\n",
            "COBBLE HILL-WEST           0     1      1\n",
            "JAMAICA ESTATES            1     0      1\n",
            "\n",
            "[200 rows x 3 columns]\n"
          ]
        },
        {
          "output_type": "execute_result",
          "data": {
            "text/html": [
              "<div>\n",
              "<style scoped>\n",
              "    .dataframe tbody tr th:only-of-type {\n",
              "        vertical-align: middle;\n",
              "    }\n",
              "\n",
              "    .dataframe tbody tr th {\n",
              "        vertical-align: top;\n",
              "    }\n",
              "\n",
              "    .dataframe thead th {\n",
              "        text-align: right;\n",
              "    }\n",
              "</style>\n",
              "<table border=\"1\" class=\"dataframe\">\n",
              "  <thead>\n",
              "    <tr style=\"text-align: right;\">\n",
              "      <th></th>\n",
              "      <th>NEIGHBORHOOD</th>\n",
              "      <th>BUILDING CLASS CATEGORY</th>\n",
              "      <th>BUILDING CLASS AT TIME OF SALE</th>\n",
              "      <th>SALE PRICE</th>\n",
              "      <th>YEAR</th>\n",
              "      <th>MONTH</th>\n",
              "    </tr>\n",
              "  </thead>\n",
              "  <tbody>\n",
              "    <tr>\n",
              "      <th>9594</th>\n",
              "      <td>MIDTOWN WEST</td>\n",
              "      <td>21 OFFICE BUILDINGS</td>\n",
              "      <td>O5</td>\n",
              "      <td>268124175</td>\n",
              "      <td>2017</td>\n",
              "      <td>1</td>\n",
              "    </tr>\n",
              "    <tr>\n",
              "      <th>9593</th>\n",
              "      <td>MIDTOWN WEST</td>\n",
              "      <td>21 OFFICE BUILDINGS</td>\n",
              "      <td>O6</td>\n",
              "      <td>83126000</td>\n",
              "      <td>2017</td>\n",
              "      <td>2</td>\n",
              "    </tr>\n",
              "    <tr>\n",
              "      <th>9597</th>\n",
              "      <td>MIDTOWN WEST</td>\n",
              "      <td>21 OFFICE BUILDINGS</td>\n",
              "      <td>O6</td>\n",
              "      <td>68000000</td>\n",
              "      <td>2017</td>\n",
              "      <td>5</td>\n",
              "    </tr>\n",
              "    <tr>\n",
              "      <th>9678</th>\n",
              "      <td>MIDTOWN WEST</td>\n",
              "      <td>26 OTHER HOTELS</td>\n",
              "      <td>HB</td>\n",
              "      <td>53000000</td>\n",
              "      <td>2017</td>\n",
              "      <td>8</td>\n",
              "    </tr>\n",
              "    <tr>\n",
              "      <th>9598</th>\n",
              "      <td>MIDTOWN WEST</td>\n",
              "      <td>21 OFFICE BUILDINGS</td>\n",
              "      <td>O6</td>\n",
              "      <td>50000000</td>\n",
              "      <td>2017</td>\n",
              "      <td>1</td>\n",
              "    </tr>\n",
              "    <tr>\n",
              "      <th>9600</th>\n",
              "      <td>MIDTOWN WEST</td>\n",
              "      <td>21 OFFICE BUILDINGS</td>\n",
              "      <td>O5</td>\n",
              "      <td>43100000</td>\n",
              "      <td>2017</td>\n",
              "      <td>4</td>\n",
              "    </tr>\n",
              "    <tr>\n",
              "      <th>9595</th>\n",
              "      <td>MIDTOWN WEST</td>\n",
              "      <td>21 OFFICE BUILDINGS</td>\n",
              "      <td>O5</td>\n",
              "      <td>30937500</td>\n",
              "      <td>2017</td>\n",
              "      <td>1</td>\n",
              "    </tr>\n",
              "    <tr>\n",
              "      <th>9603</th>\n",
              "      <td>MIDTOWN WEST</td>\n",
              "      <td>21 OFFICE BUILDINGS</td>\n",
              "      <td>O5</td>\n",
              "      <td>10675000</td>\n",
              "      <td>2017</td>\n",
              "      <td>6</td>\n",
              "    </tr>\n",
              "    <tr>\n",
              "      <th>9688</th>\n",
              "      <td>MIDTOWN WEST</td>\n",
              "      <td>34 THEATRES</td>\n",
              "      <td>J4</td>\n",
              "      <td>5000000</td>\n",
              "      <td>2017</td>\n",
              "      <td>6</td>\n",
              "    </tr>\n",
              "    <tr>\n",
              "      <th>9612</th>\n",
              "      <td>MIDTOWN WEST</td>\n",
              "      <td>26 OTHER HOTELS</td>\n",
              "      <td>H3</td>\n",
              "      <td>20682</td>\n",
              "      <td>2017</td>\n",
              "      <td>2</td>\n",
              "    </tr>\n",
              "    <tr>\n",
              "      <th>9609</th>\n",
              "      <td>MIDTOWN WEST</td>\n",
              "      <td>26 OTHER HOTELS</td>\n",
              "      <td>H3</td>\n",
              "      <td>20000</td>\n",
              "      <td>2017</td>\n",
              "      <td>8</td>\n",
              "    </tr>\n",
              "    <tr>\n",
              "      <th>9610</th>\n",
              "      <td>MIDTOWN WEST</td>\n",
              "      <td>26 OTHER HOTELS</td>\n",
              "      <td>H3</td>\n",
              "      <td>19000</td>\n",
              "      <td>2017</td>\n",
              "      <td>5</td>\n",
              "    </tr>\n",
              "    <tr>\n",
              "      <th>9611</th>\n",
              "      <td>MIDTOWN WEST</td>\n",
              "      <td>26 OTHER HOTELS</td>\n",
              "      <td>H3</td>\n",
              "      <td>17480</td>\n",
              "      <td>2017</td>\n",
              "      <td>3</td>\n",
              "    </tr>\n",
              "  </tbody>\n",
              "</table>\n",
              "</div>"
            ],
            "text/plain": [
              "      NEIGHBORHOOD                      BUILDING CLASS CATEGORY  ...  YEAR  MONTH\n",
              "9594  MIDTOWN WEST  21 OFFICE BUILDINGS                          ...  2017      1\n",
              "9593  MIDTOWN WEST  21 OFFICE BUILDINGS                          ...  2017      2\n",
              "9597  MIDTOWN WEST  21 OFFICE BUILDINGS                          ...  2017      5\n",
              "9678  MIDTOWN WEST  26 OTHER HOTELS                              ...  2017      8\n",
              "9598  MIDTOWN WEST  21 OFFICE BUILDINGS                          ...  2017      1\n",
              "9600  MIDTOWN WEST  21 OFFICE BUILDINGS                          ...  2017      4\n",
              "9595  MIDTOWN WEST  21 OFFICE BUILDINGS                          ...  2017      1\n",
              "9603  MIDTOWN WEST  21 OFFICE BUILDINGS                          ...  2017      6\n",
              "9688  MIDTOWN WEST  34 THEATRES                                  ...  2017      6\n",
              "9612  MIDTOWN WEST  26 OTHER HOTELS                              ...  2017      2\n",
              "9609  MIDTOWN WEST  26 OTHER HOTELS                              ...  2017      8\n",
              "9610  MIDTOWN WEST  26 OTHER HOTELS                              ...  2017      5\n",
              "9611  MIDTOWN WEST  26 OTHER HOTELS                              ...  2017      3\n",
              "\n",
              "[13 rows x 6 columns]"
            ]
          },
          "metadata": {},
          "execution_count": 8
        }
      ]
    },
    {
      "cell_type": "code",
      "metadata": {
        "colab": {
          "base_uri": "https://localhost:8080/"
        },
        "id": "T_6mtXSaXTts",
        "outputId": "764f6800-c1cc-4fe3-8032-c2d6238bdd56"
      },
      "source": [
        "#HYPOTHESIS TESTING : APAKAH RATA-RATA SALE PRICE COMMERCIAL UNIT DI MIDTOWN WEST PADA TAHUN 2017 LEBIH BESAR DARI SALE PRICE TAHUN 2016?\n",
        "\n",
        "mdw_17 = df_sale[(df_sale[\"NEIGHBORHOOD\"] == 'MIDTOWN WEST')&(df_sale['YEAR'] == 2017)]\n",
        "mdw_16 = df_sale[(df_sale[\"NEIGHBORHOOD\"] == 'MIDTOWN WEST')&(df_sale['YEAR'] == 2016)]\n",
        "\n",
        "n1 = len(mdw_17)\n",
        "mu1 = mdw_17[\"SALE PRICE\"].mean()\n",
        "sd1 = mdw_17[\"SALE PRICE\"].std()\n",
        "(n1,mu1,sd1)\n",
        "\n",
        "n2 = len(mdw_16)\n",
        "mu2 = mdw_16[\"SALE PRICE\"].mean()\n",
        "sd2 = mdw_16[\"SALE PRICE\"].std()\n",
        "(n2,mu2,sd2)\n",
        "\n",
        "sm.stats.ztest(mdw_17[\"SALE PRICE\"].dropna(),\n",
        "mdw_16[\"SALE PRICE\"].dropna(),alternative='two-sided')\n"
      ],
      "execution_count": null,
      "outputs": [
        {
          "output_type": "execute_result",
          "data": {
            "text/plain": [
              "(5.00050943874487, 5.717902863651518e-07)"
            ]
          },
          "metadata": {},
          "execution_count": 49
        }
      ]
    },
    {
      "cell_type": "markdown",
      "metadata": {
        "id": "cDrYwmGaQhdx"
      },
      "source": [
        "Karena p-value (5.71e-07) sangat kecil dari nilai alpha (0.05), kita dapat **reject the null hypothesis** bahwa rata-rata sale price di tahun 2017 sama dengan tahun 2016. Catatan, kita menggunakan alternative=\"two-sided\" dalam z-test karena disini kita memeriksan ketidaksamaan"
      ]
    },
    {
      "cell_type": "code",
      "metadata": {
        "colab": {
          "base_uri": "https://localhost:8080/"
        },
        "id": "JbYzWWixXTeT",
        "outputId": "07e52894-0b0a-4402-ec5c-e24676676372"
      },
      "source": [
        "#menghitung CI dengan otomatis\n",
        "print(\"CI dari rata-rata unit yang terjual di tahun 2017 di Midtown West =\",\n",
        "      st.t.interval(alpha=0.95,df=len(mdw_17['SALE PRICE']), loc=np.mean(mdw_17['SALE PRICE']), scale=st.sem(mdw_17['SALE PRICE']))) "
      ],
      "execution_count": null,
      "outputs": [
        {
          "output_type": "stream",
          "name": "stdout",
          "text": [
            "CI dari rata-rata unit yang terjual di tahun 2017 di Midtown West = (3709380.941008255, 90450593.98206867)\n"
          ]
        }
      ]
    },
    {
      "cell_type": "code",
      "metadata": {
        "colab": {
          "base_uri": "https://localhost:8080/",
          "height": 606
        },
        "id": "gayDHd0xBYOX",
        "outputId": "196d3a65-2875-44ea-9870-5599d5aeb089"
      },
      "source": [
        "#SCATTER PLOT SALE PRICE AT MIDTOWN WEST IN 2016\n",
        "\n",
        "mdw_16_plot = mdw_16.loc[:,('SALE PRICE','MONTH')]\n",
        "mdw_17_plot = mdw_17.loc[:,('SALE PRICE','MONTH')]\n",
        "\n",
        "mdw_16_plot.plot(kind='scatter',x='MONTH',y='SALE PRICE',figsize=(12,4),color='darkblue')\n",
        "plt.xticks(np.arange(1, max(mdw_16_plot['MONTH'])+1, 1.0))\n",
        "plt.title('Sale Price at Midtown West in 2016',y=1.05)\n",
        "plt.ylabel('Sale Price(USD)')\n",
        "plt.xlabel('Month')\n",
        "plt.show()\n",
        "\n",
        "#SCATTER PLOT SALE PRICE AT MIDTOWN WEST IN 2017\n",
        "\n",
        "mdw_17_plot.plot(kind='scatter',x='MONTH',y='SALE PRICE',figsize=(12,4),color='darkblue')\n",
        "plt.xticks(np.arange(min(mdw_17_plot['MONTH']), max(mdw_17_plot['MONTH'])+1, 1.0))\n",
        "plt.title('Sale Price at Midtown West in 2017',y=1.05)\n",
        "plt.ylabel('Sale Price(USD)')\n",
        "plt.xlabel('Month')\n",
        "plt.show()"
      ],
      "execution_count": null,
      "outputs": [
        {
          "output_type": "display_data",
          "data": {
            "image/png": "[encoded data removed]",
            "text/plain": [
              "<Figure size 864x288 with 1 Axes>"
            ]
          },
          "metadata": {}
        },
        {
          "output_type": "display_data",
          "data": {
            "image/png": "[encoded data removed]",
            "text/plain": [
              "<Figure size 864x288 with 1 Axes>"
            ]
          },
          "metadata": {}
        }
      ]
    }
  ]
}
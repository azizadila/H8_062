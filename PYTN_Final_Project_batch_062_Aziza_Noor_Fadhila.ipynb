{
  "nbformat": 4,
  "nbformat_minor": 0,
  "metadata": {
    "colab": {
      "name": "PYTN_Final_Project_batch_062_Aziza Noor Fadhila",
      "provenance": [],
      "authorship_tag": "ABX9TyPmARLsTDlbA6QCZhYXIve7",
      "include_colab_link": true
    },
    "kernelspec": {
      "name": "python3",
      "display_name": "Python 3"
    },
    "language_info": {
      "name": "python"
    }
  },
  "cells": [
    {
      "cell_type": "markdown",
      "metadata": {
        "id": "view-in-github",
        "colab_type": "text"
      },
      "source": [
        "<a href=\"https://colab.research.google.com/github/azizadila/H8_062/blob/main/PYTN_Final_Project_batch_062_Aziza_Noor_Fadhila.ipynb\" target=\"_parent\"><img src=\"https://colab.research.google.com/assets/colab-badge.svg\" alt=\"Open In Colab\"/></a>"
      ]
    },
    {
      "cell_type": "markdown",
      "source": [
        "`**In Hospital df Prediction**`\n",
        "\n",
        "---\n",
        "\n",
        "**Context**\n",
        "The predictors of in-hospital mortality for intensive care units (ICU)-admitted HF patients remain poorly characterized. I aimed to develop and validate a prediction model for all-cause in-hospital mortality among ICU-admitted HF patients.So, I choose Classification as a Topic.\n",
        "\n",
        "**Content**\n",
        "Using Structured Query Language queries (PostgreSQL, version 9.6), demographic characteristics, vital signs, and laboratory values data were extracted from the following tables in the MIMIC III dataset: ADMISSIONS, PATIENTS, ICUSTAYS, DICD DIAGNOSIS, DIAGNOSISICD, LABEVENTS, DLABIEVENTS, CHARTEVENTS, DITEMS, NOTEEVENTS, and OUTPUTEVENTS. Based on previous studies 7-9 13-15, clinical relevance, and general availability at the time of presentation, we extracted the following data: demographic characteristics (age at the time of hospital admission, sex, ethnicity, weight, and height); vital signs (heart rate, (HR), systolic blood pressure [SBP], diastolic blood pressure [DBP], mean blood pressure, respiratory rate, body temperature, saturation pulse oxygen [SPO2], urine output [first 24 h]); comorbidities (hypertension, atrial fibrillation, ischemic heart disease, diabetes mellitus, depression, hypoferric anemia, hyperlipidemia, chronic kidney disease (CKD), and chronic obstructive pulmonary disease [COPD]); and laboratory variables (hematocrit, red blood cells, mean corpuscular hemoglobin [MCH], mean corpuscular hemoglobin concentration [MCHC], mean corpuscular volume [MCV], red blood cell distribution width [RDW], platelet count, white blood cells, neutrophils, basophils, lymphocytes, prothrombin time [PT], international normalized ratio [INR], NT-proBNP, creatine kinase, creatinine, blood urea nitrogen [BUN] glucose, potassium, sodium, calcium, chloride, magnesium, the anion gap, bicarbonate, lactate, hydrogen ion concentration [pH], partial pressure of CO2 in arterial blood, and LVEF), using Structured Query Language (SQL) with PostgreSQL (version 9.6). Demographic characteristics and vital signs extracted were recorded during the ﬁrst 24 hours of each admission and laboratory variables were measured during the entire ICU stay. Comorbidities were identified using ICD-9 codes. For variable data with multiple measurements, the calculated mean value was included for analysis.The primary outcome of the study was in-hospital mortality, defined as the vital status at the time of hospital discharge in survivors and non-survivors. \n",
        "\n",
        "**Source**\n",
        "https://www.kaggle.com/saurabhshahane/in-hospital-mortality-prediction\n",
        "\n",
        "**Class :** 2\n",
        "\n",
        "**Amount of Data :** 428 Rows, 51 Columns\n",
        "\n",
        "**Objectives**\n",
        "The goal is to predict if the patient alive or death in the ICU\n",
        "\n",
        "Target Variable - Outcome\n",
        "0 - Alive\n",
        "1 - Death"
      ],
      "metadata": {
        "id": "35BP9CtpJVjJ"
      }
    },
    {
      "cell_type": "code",
      "execution_count": 66,
      "metadata": {
        "id": "cOBB-f3Qg0Th"
      },
      "outputs": [],
      "source": [
        "#IMPORT LIBRARY\n",
        "\n",
        "import pandas as pd\n",
        "import numpy as np\n",
        "import matplotlib.pyplot as plt\n",
        "%matplotlib inline"
      ]
    },
    {
      "cell_type": "code",
      "source": [
        "#DATA LOADING AND CLEANING\n",
        "\n",
        "from google.colab import drive\n",
        "drive.mount('/content/drive')\n",
        "\n",
        "df = pd.read_csv(\"/content/drive/MyDrive/Assignment 1/data01.csv\")\n",
        "df = df.dropna()\n",
        "df.rename(columns={'gendera': 'gender', 'hypertensive': 'hypertension','CHD with no MI': 'ischemic heart disease','Hyperlipemia': 'hyperlipidemia','Renal failure': 'CKD'}, inplace=True)\n",
        "print(\"amount of data =\",df.shape)\n",
        "print(\"number of class =\",df.ndim)\n",
        "\n",
        "df.head()"
      ],
      "metadata": {
        "id": "rWsQudWPhCKA",
        "colab": {
          "base_uri": "https://localhost:8080/",
          "height": 360
        },
        "outputId": "497c0aed-9836-4ef5-eca1-4b47dd0d3fcc"
      },
      "execution_count": 67,
      "outputs": [
        {
          "output_type": "stream",
          "name": "stdout",
          "text": [
            "Drive already mounted at /content/drive; to attempt to forcibly remount, call drive.mount(\"/content/drive\", force_remount=True).\n",
            "amount of data = (428, 51)\n",
            "number of class = 2\n"
          ]
        },
        {
          "output_type": "execute_result",
          "data": {
            "text/html": [
              "\n",
              "  <div id=\"df-f6f301bd-4611-4ee6-91f4-573713405c73\">\n",
              "    <div class=\"colab-df-container\">\n",
              "      <div>\n",
              "<style scoped>\n",
              "    .dataframe tbody tr th:only-of-type {\n",
              "        vertical-align: middle;\n",
              "    }\n",
              "\n",
              "    .dataframe tbody tr th {\n",
              "        vertical-align: top;\n",
              "    }\n",
              "\n",
              "    .dataframe thead th {\n",
              "        text-align: right;\n",
              "    }\n",
              "</style>\n",
              "<table border=\"1\" class=\"dataframe\">\n",
              "  <thead>\n",
              "    <tr style=\"text-align: right;\">\n",
              "      <th></th>\n",
              "      <th>group</th>\n",
              "      <th>ID</th>\n",
              "      <th>outcome</th>\n",
              "      <th>age</th>\n",
              "      <th>gender</th>\n",
              "      <th>BMI</th>\n",
              "      <th>hypertension</th>\n",
              "      <th>atrialfibrillation</th>\n",
              "      <th>ischemic heart disease</th>\n",
              "      <th>diabetes</th>\n",
              "      <th>deficiencyanemias</th>\n",
              "      <th>depression</th>\n",
              "      <th>hyperlipidemia</th>\n",
              "      <th>CKD</th>\n",
              "      <th>COPD</th>\n",
              "      <th>heart rate</th>\n",
              "      <th>Systolic blood pressure</th>\n",
              "      <th>Diastolic blood pressure</th>\n",
              "      <th>Respiratory rate</th>\n",
              "      <th>temperature</th>\n",
              "      <th>SP O2</th>\n",
              "      <th>Urine output</th>\n",
              "      <th>hematocrit</th>\n",
              "      <th>RBC</th>\n",
              "      <th>MCH</th>\n",
              "      <th>MCHC</th>\n",
              "      <th>MCV</th>\n",
              "      <th>RDW</th>\n",
              "      <th>Leucocyte</th>\n",
              "      <th>Platelets</th>\n",
              "      <th>Neutrophils</th>\n",
              "      <th>Basophils</th>\n",
              "      <th>Lymphocyte</th>\n",
              "      <th>PT</th>\n",
              "      <th>INR</th>\n",
              "      <th>NT-proBNP</th>\n",
              "      <th>Creatine kinase</th>\n",
              "      <th>Creatinine</th>\n",
              "      <th>Urea nitrogen</th>\n",
              "      <th>glucose</th>\n",
              "      <th>Blood potassium</th>\n",
              "      <th>Blood sodium</th>\n",
              "      <th>Blood calcium</th>\n",
              "      <th>Chloride</th>\n",
              "      <th>Anion gap</th>\n",
              "      <th>Magnesium ion</th>\n",
              "      <th>PH</th>\n",
              "      <th>Bicarbonate</th>\n",
              "      <th>Lactic acid</th>\n",
              "      <th>PCO2</th>\n",
              "      <th>EF</th>\n",
              "    </tr>\n",
              "  </thead>\n",
              "  <tbody>\n",
              "    <tr>\n",
              "      <th>0</th>\n",
              "      <td>1</td>\n",
              "      <td>125047</td>\n",
              "      <td>0.0</td>\n",
              "      <td>72</td>\n",
              "      <td>1</td>\n",
              "      <td>37.588179</td>\n",
              "      <td>0</td>\n",
              "      <td>0</td>\n",
              "      <td>0</td>\n",
              "      <td>1</td>\n",
              "      <td>1</td>\n",
              "      <td>0</td>\n",
              "      <td>1</td>\n",
              "      <td>1</td>\n",
              "      <td>0</td>\n",
              "      <td>68.837838</td>\n",
              "      <td>155.866667</td>\n",
              "      <td>68.333333</td>\n",
              "      <td>16.621622</td>\n",
              "      <td>36.714286</td>\n",
              "      <td>98.394737</td>\n",
              "      <td>2155.0</td>\n",
              "      <td>26.272727</td>\n",
              "      <td>2.9600</td>\n",
              "      <td>28.250000</td>\n",
              "      <td>31.520000</td>\n",
              "      <td>89.900</td>\n",
              "      <td>16.220000</td>\n",
              "      <td>7.650000</td>\n",
              "      <td>305.100</td>\n",
              "      <td>74.65</td>\n",
              "      <td>0.40</td>\n",
              "      <td>13.30</td>\n",
              "      <td>10.600000</td>\n",
              "      <td>1.000000</td>\n",
              "      <td>1956.0</td>\n",
              "      <td>148.00</td>\n",
              "      <td>1.958333</td>\n",
              "      <td>50.000000</td>\n",
              "      <td>114.636364</td>\n",
              "      <td>4.816667</td>\n",
              "      <td>138.750000</td>\n",
              "      <td>7.463636</td>\n",
              "      <td>109.166667</td>\n",
              "      <td>13.166667</td>\n",
              "      <td>2.618182</td>\n",
              "      <td>7.230000</td>\n",
              "      <td>21.166667</td>\n",
              "      <td>0.500</td>\n",
              "      <td>40.000000</td>\n",
              "      <td>55</td>\n",
              "    </tr>\n",
              "    <tr>\n",
              "      <th>2</th>\n",
              "      <td>1</td>\n",
              "      <td>109787</td>\n",
              "      <td>0.0</td>\n",
              "      <td>83</td>\n",
              "      <td>2</td>\n",
              "      <td>26.572634</td>\n",
              "      <td>0</td>\n",
              "      <td>0</td>\n",
              "      <td>0</td>\n",
              "      <td>0</td>\n",
              "      <td>1</td>\n",
              "      <td>0</td>\n",
              "      <td>0</td>\n",
              "      <td>1</td>\n",
              "      <td>0</td>\n",
              "      <td>72.318182</td>\n",
              "      <td>135.333333</td>\n",
              "      <td>61.375000</td>\n",
              "      <td>23.640000</td>\n",
              "      <td>36.453704</td>\n",
              "      <td>95.291667</td>\n",
              "      <td>2425.0</td>\n",
              "      <td>27.700000</td>\n",
              "      <td>2.6200</td>\n",
              "      <td>34.320000</td>\n",
              "      <td>31.300000</td>\n",
              "      <td>109.800</td>\n",
              "      <td>23.820000</td>\n",
              "      <td>5.480000</td>\n",
              "      <td>204.200</td>\n",
              "      <td>68.10</td>\n",
              "      <td>0.55</td>\n",
              "      <td>24.50</td>\n",
              "      <td>11.275000</td>\n",
              "      <td>0.950000</td>\n",
              "      <td>4081.0</td>\n",
              "      <td>16.00</td>\n",
              "      <td>1.871429</td>\n",
              "      <td>33.857143</td>\n",
              "      <td>149.000000</td>\n",
              "      <td>5.825000</td>\n",
              "      <td>140.714286</td>\n",
              "      <td>8.266667</td>\n",
              "      <td>105.857143</td>\n",
              "      <td>10.000000</td>\n",
              "      <td>2.157143</td>\n",
              "      <td>7.268000</td>\n",
              "      <td>30.571429</td>\n",
              "      <td>0.500</td>\n",
              "      <td>71.500000</td>\n",
              "      <td>35</td>\n",
              "    </tr>\n",
              "    <tr>\n",
              "      <th>3</th>\n",
              "      <td>1</td>\n",
              "      <td>130587</td>\n",
              "      <td>0.0</td>\n",
              "      <td>43</td>\n",
              "      <td>2</td>\n",
              "      <td>83.264629</td>\n",
              "      <td>0</td>\n",
              "      <td>0</td>\n",
              "      <td>0</td>\n",
              "      <td>0</td>\n",
              "      <td>0</td>\n",
              "      <td>0</td>\n",
              "      <td>0</td>\n",
              "      <td>0</td>\n",
              "      <td>0</td>\n",
              "      <td>94.500000</td>\n",
              "      <td>126.400000</td>\n",
              "      <td>73.200000</td>\n",
              "      <td>21.857143</td>\n",
              "      <td>36.287037</td>\n",
              "      <td>93.846154</td>\n",
              "      <td>8760.0</td>\n",
              "      <td>36.637500</td>\n",
              "      <td>4.2775</td>\n",
              "      <td>26.062500</td>\n",
              "      <td>30.412500</td>\n",
              "      <td>85.625</td>\n",
              "      <td>17.037500</td>\n",
              "      <td>8.225000</td>\n",
              "      <td>216.375</td>\n",
              "      <td>81.80</td>\n",
              "      <td>0.15</td>\n",
              "      <td>14.50</td>\n",
              "      <td>27.066667</td>\n",
              "      <td>2.666667</td>\n",
              "      <td>668.0</td>\n",
              "      <td>85.00</td>\n",
              "      <td>0.585714</td>\n",
              "      <td>15.285714</td>\n",
              "      <td>128.250000</td>\n",
              "      <td>4.386667</td>\n",
              "      <td>138.500000</td>\n",
              "      <td>9.476923</td>\n",
              "      <td>92.071429</td>\n",
              "      <td>12.357143</td>\n",
              "      <td>1.942857</td>\n",
              "      <td>7.370000</td>\n",
              "      <td>38.571429</td>\n",
              "      <td>0.600</td>\n",
              "      <td>75.000000</td>\n",
              "      <td>55</td>\n",
              "    </tr>\n",
              "    <tr>\n",
              "      <th>5</th>\n",
              "      <td>1</td>\n",
              "      <td>154653</td>\n",
              "      <td>0.0</td>\n",
              "      <td>76</td>\n",
              "      <td>1</td>\n",
              "      <td>24.262293</td>\n",
              "      <td>1</td>\n",
              "      <td>1</td>\n",
              "      <td>0</td>\n",
              "      <td>0</td>\n",
              "      <td>1</td>\n",
              "      <td>0</td>\n",
              "      <td>1</td>\n",
              "      <td>1</td>\n",
              "      <td>1</td>\n",
              "      <td>74.181818</td>\n",
              "      <td>118.100000</td>\n",
              "      <td>52.950000</td>\n",
              "      <td>20.545455</td>\n",
              "      <td>35.266667</td>\n",
              "      <td>96.818182</td>\n",
              "      <td>1840.0</td>\n",
              "      <td>27.333333</td>\n",
              "      <td>3.2350</td>\n",
              "      <td>26.566667</td>\n",
              "      <td>31.483333</td>\n",
              "      <td>84.500</td>\n",
              "      <td>16.516667</td>\n",
              "      <td>9.516667</td>\n",
              "      <td>273.000</td>\n",
              "      <td>85.40</td>\n",
              "      <td>0.30</td>\n",
              "      <td>9.30</td>\n",
              "      <td>18.783333</td>\n",
              "      <td>1.700000</td>\n",
              "      <td>34183.0</td>\n",
              "      <td>28.00</td>\n",
              "      <td>1.612500</td>\n",
              "      <td>26.625000</td>\n",
              "      <td>98.333333</td>\n",
              "      <td>4.075000</td>\n",
              "      <td>136.250000</td>\n",
              "      <td>8.466667</td>\n",
              "      <td>96.750000</td>\n",
              "      <td>13.125000</td>\n",
              "      <td>1.771429</td>\n",
              "      <td>7.310000</td>\n",
              "      <td>30.500000</td>\n",
              "      <td>0.600</td>\n",
              "      <td>65.500000</td>\n",
              "      <td>35</td>\n",
              "    </tr>\n",
              "    <tr>\n",
              "      <th>6</th>\n",
              "      <td>1</td>\n",
              "      <td>194420</td>\n",
              "      <td>0.0</td>\n",
              "      <td>72</td>\n",
              "      <td>1</td>\n",
              "      <td>39.667426</td>\n",
              "      <td>1</td>\n",
              "      <td>0</td>\n",
              "      <td>0</td>\n",
              "      <td>0</td>\n",
              "      <td>0</td>\n",
              "      <td>0</td>\n",
              "      <td>1</td>\n",
              "      <td>1</td>\n",
              "      <td>1</td>\n",
              "      <td>69.636364</td>\n",
              "      <td>106.565217</td>\n",
              "      <td>47.826087</td>\n",
              "      <td>19.148148</td>\n",
              "      <td>35.603175</td>\n",
              "      <td>95.636364</td>\n",
              "      <td>2450.0</td>\n",
              "      <td>28.937500</td>\n",
              "      <td>3.7200</td>\n",
              "      <td>24.337500</td>\n",
              "      <td>31.312500</td>\n",
              "      <td>77.875</td>\n",
              "      <td>17.400000</td>\n",
              "      <td>7.975000</td>\n",
              "      <td>140.250</td>\n",
              "      <td>80.70</td>\n",
              "      <td>0.20</td>\n",
              "      <td>13.45</td>\n",
              "      <td>14.000000</td>\n",
              "      <td>1.200000</td>\n",
              "      <td>29683.0</td>\n",
              "      <td>108.25</td>\n",
              "      <td>2.960000</td>\n",
              "      <td>109.133333</td>\n",
              "      <td>105.600000</td>\n",
              "      <td>4.606667</td>\n",
              "      <td>144.133333</td>\n",
              "      <td>8.775000</td>\n",
              "      <td>106.666667</td>\n",
              "      <td>15.200000</td>\n",
              "      <td>1.875000</td>\n",
              "      <td>7.169231</td>\n",
              "      <td>26.800000</td>\n",
              "      <td>0.625</td>\n",
              "      <td>69.769231</td>\n",
              "      <td>55</td>\n",
              "    </tr>\n",
              "  </tbody>\n",
              "</table>\n",
              "</div>\n",
              "      <button class=\"colab-df-convert\" onclick=\"convertToInteractive('df-f6f301bd-4611-4ee6-91f4-573713405c73')\"\n",
              "              title=\"Convert this dataframe to an interactive table.\"\n",
              "              style=\"display:none;\">\n",
              "        \n",
              "  <svg xmlns=\"http://www.w3.org/2000/svg\" height=\"24px\"viewBox=\"0 0 24 24\"\n",
              "       width=\"24px\">\n",
              "    <path d=\"M0 0h24v24H0V0z\" fill=\"none\"/>\n",
              "    <path d=\"M18.56 5.44l.94 2.06.94-2.06 2.06-.94-2.06-.94-.94-2.06-.94 2.06-2.06.94zm-11 1L8.5 8.5l.94-2.06 2.06-.94-2.06-.94L8.5 2.5l-.94 2.06-2.06.94zm10 10l.94 2.06.94-2.06 2.06-.94-2.06-.94-.94-2.06-.94 2.06-2.06.94z\"/><path d=\"M17.41 7.96l-1.37-1.37c-.4-.4-.92-.59-1.43-.59-.52 0-1.04.2-1.43.59L10.3 9.45l-7.72 7.72c-.78.78-.78 2.05 0 2.83L4 21.41c.39.39.9.59 1.41.59.51 0 1.02-.2 1.41-.59l7.78-7.78 2.81-2.81c.8-.78.8-2.07 0-2.86zM5.41 20L4 18.59l7.72-7.72 1.47 1.35L5.41 20z\"/>\n",
              "  </svg>\n",
              "      </button>\n",
              "      \n",
              "  <style>\n",
              "    .colab-df-container {\n",
              "      display:flex;\n",
              "      flex-wrap:wrap;\n",
              "      gap: 12px;\n",
              "    }\n",
              "\n",
              "    .colab-df-convert {\n",
              "      background-color: #E8F0FE;\n",
              "      border: none;\n",
              "      border-radius: 50%;\n",
              "      cursor: pointer;\n",
              "      display: none;\n",
              "      fill: #1967D2;\n",
              "      height: 32px;\n",
              "      padding: 0 0 0 0;\n",
              "      width: 32px;\n",
              "    }\n",
              "\n",
              "    .colab-df-convert:hover {\n",
              "      background-color: #E2EBFA;\n",
              "      box-shadow: 0px 1px 2px rgba(60, 64, 67, 0.3), 0px 1px 3px 1px rgba(60, 64, 67, 0.15);\n",
              "      fill: #174EA6;\n",
              "    }\n",
              "\n",
              "    [theme=dark] .colab-df-convert {\n",
              "      background-color: #3B4455;\n",
              "      fill: #D2E3FC;\n",
              "    }\n",
              "\n",
              "    [theme=dark] .colab-df-convert:hover {\n",
              "      background-color: #434B5C;\n",
              "      box-shadow: 0px 1px 3px 1px rgba(0, 0, 0, 0.15);\n",
              "      filter: drop-shadow(0px 1px 2px rgba(0, 0, 0, 0.3));\n",
              "      fill: #FFFFFF;\n",
              "    }\n",
              "  </style>\n",
              "\n",
              "      <script>\n",
              "        const buttonEl =\n",
              "          document.querySelector('#df-f6f301bd-4611-4ee6-91f4-573713405c73 button.colab-df-convert');\n",
              "        buttonEl.style.display =\n",
              "          google.colab.kernel.accessAllowed ? 'block' : 'none';\n",
              "\n",
              "        async function convertToInteractive(key) {\n",
              "          const element = document.querySelector('#df-f6f301bd-4611-4ee6-91f4-573713405c73');\n",
              "          const dataTable =\n",
              "            await google.colab.kernel.invokeFunction('convertToInteractive',\n",
              "                                                     [key], {});\n",
              "          if (!dataTable) return;\n",
              "\n",
              "          const docLinkHtml = 'Like what you see? Visit the ' +\n",
              "            '<a target=\"_blank\" href=https://colab.research.google.com/notebooks/data_table.ipynb>data table notebook</a>'\n",
              "            + ' to learn more about interactive tables.';\n",
              "          element.innerHTML = '';\n",
              "          dataTable['output_type'] = 'display_data';\n",
              "          await google.colab.output.renderOutput(dataTable, element);\n",
              "          const docLink = document.createElement('div');\n",
              "          docLink.innerHTML = docLinkHtml;\n",
              "          element.appendChild(docLink);\n",
              "        }\n",
              "      </script>\n",
              "    </div>\n",
              "  </div>\n",
              "  "
            ],
            "text/plain": [
              "   group      ID  outcome  age  ...  Bicarbonate  Lactic acid       PCO2  EF\n",
              "0      1  125047      0.0   72  ...    21.166667        0.500  40.000000  55\n",
              "2      1  109787      0.0   83  ...    30.571429        0.500  71.500000  35\n",
              "3      1  130587      0.0   43  ...    38.571429        0.600  75.000000  55\n",
              "5      1  154653      0.0   76  ...    30.500000        0.600  65.500000  35\n",
              "6      1  194420      0.0   72  ...    26.800000        0.625  69.769231  55\n",
              "\n",
              "[5 rows x 51 columns]"
            ]
          },
          "metadata": {},
          "execution_count": 67
        }
      ]
    },
    {
      "cell_type": "code",
      "source": [
        "#DATA VISUALIZATION (1) - ANALYSIS ON DEATH BASED ON COMORDIBITIES FACTORS\n",
        "\n",
        "#GROUPING DATA YANG AKAN DIBUAT PIE CHART\n",
        "data01=df[(df['outcome']==1)]\n",
        "data01=data01.iloc[:,6:14].sum()\n",
        "data01.sort_values(inplace=True,ascending=False)\n",
        "print(data01)\n",
        "\n",
        "#PEMILIHAN WARNA PIE CHART DAN JARAK ANTAR PIE CHART\n",
        "colors_list = ['gold','yellowgreen','lightcoral','lightskyblue','lightgreen','pink','purple','grey']\n",
        "explode_list = [0,0,0,0,0,0.1,0.1,0.1]\n",
        "\n",
        "data01.plot(kind='pie',\n",
        "              figsize=(15,8),\n",
        "              autopct='%1.1f%%',\n",
        "              startangle=90,\n",
        "              shadow=True,\n",
        "              labels=None,\n",
        "              pctdistance=1.1,\n",
        "              colors=colors_list,\n",
        "              explode=explode_list,\n",
        ")\n",
        "\n",
        "#PLOTTING PIE CHART\n",
        "plt.title('Mortality group by Comorbidities',y=1.12)\n",
        "plt.axis('equal')\n",
        "plt.legend(labels=['hypertension','atrialfibrillation','ischemic heart disease','diabetes','deficiencyanemias','depression','hyperlipidemia','CKD','COPD'],loc='upper left')\n",
        "plt.show()"
      ],
      "metadata": {
        "colab": {
          "base_uri": "https://localhost:8080/",
          "height": 700
        },
        "id": "qNuHnE4nNB7U",
        "outputId": "7a8f2a05-d6df-435f-9e8d-651077cf8b5a"
      },
      "execution_count": 68,
      "outputs": [
        {
          "output_type": "stream",
          "name": "stdout",
          "text": [
            "hypertension              44\n",
            "atrialfibrillation        33\n",
            "hyperlipidemia            26\n",
            "diabetes                  26\n",
            "CKD                       12\n",
            "deficiencyanemias         11\n",
            "ischemic heart disease     5\n",
            "depression                 3\n",
            "dtype: int64\n"
          ]
        },
        {
          "output_type": "display_data",
          "data": {
            "image/png": "[encoded data removed]",
            "text/plain": [
              "<Figure size 1080x576 with 1 Axes>"
            ]
          },
          "metadata": {}
        }
      ]
    },
    {
      "cell_type": "markdown",
      "source": [
        "As we can see that major factors that caused death in the ICU is hypertension (27.5%), atrialfibrillation (20.6%) and ischemic heart disease (16.2%)"
      ],
      "metadata": {
        "id": "f-iYO1n9qGcu"
      }
    },
    {
      "cell_type": "code",
      "source": [
        "#DATA VISUALIZATION (1) - ANALYSIS ON DEATH BASED ON COMORDIBITIES FACTORS\n",
        "\n",
        "data02=df['outcome'].value_counts()\n",
        "data02.plot(kind='pie',\n",
        "              figsize=(8,5),\n",
        "              autopct='%1.1f%%',\n",
        "              startangle=90,\n",
        "              shadow=True,\n",
        "              labels=None,\n",
        "              pctdistance=1.1,\n",
        ")\n",
        "\n",
        "#PLOTTING PIE CHART\n",
        "plt.title('Comparison between Alive and Death patients',y=1.12)\n",
        "plt.axis('equal')\n",
        "plt.legend(labels=['Alive','Death'],loc='upper left')\n",
        "plt.show()"
      ],
      "metadata": {
        "colab": {
          "base_uri": "https://localhost:8080/",
          "height": 351
        },
        "id": "_KIV1cn8_LMj",
        "outputId": "c188cae8-b33d-41c7-def3-18077006832d"
      },
      "execution_count": 69,
      "outputs": [
        {
          "output_type": "display_data",
          "data": {
            "image/png": "[encoded data removed]",
            "text/plain": [
              "<Figure size 576x360 with 1 Axes>"
            ]
          },
          "metadata": {}
        }
      ]
    },
    {
      "cell_type": "markdown",
      "source": [
        "As we can see that in the ICU there are more Alive patient  than Death patient"
      ],
      "metadata": {
        "id": "K9t5jY8XClga"
      }
    },
    {
      "cell_type": "code",
      "source": [
        "#DATA VISUALIZATION - ANALYSIS ON THE RATIO BETWEEN ALIVE OR DEATH ACCORDING TO GENDER\n",
        "\n",
        "df['gender'].replace({1: \"Male\", 2: \"Female\"}, inplace=True)\n",
        "pd.crosstab(df.gender,df.outcome).plot(kind='bar',figsize=(8,5))\n",
        "plt.title('The Ratio of Outcome by Gender')\n",
        "plt.xlabel('Gender')\n",
        "plt.ylabel('Frequency of Outcome')\n",
        "plt.show()"
      ],
      "metadata": {
        "colab": {
          "base_uri": "https://localhost:8080/",
          "height": 375
        },
        "id": "RMCojqi6cJ3Z",
        "outputId": "be356b6f-c220-4b26-82ef-e43e16aa3fa9"
      },
      "execution_count": 70,
      "outputs": [
        {
          "output_type": "display_data",
          "data": {
            "image/png": "[encoded data removed]",
            "text/plain": [
              "<Figure size 576x360 with 1 Axes>"
            ]
          },
          "metadata": {
            "needs_background": "light"
          }
        }
      ]
    },
    {
      "cell_type": "markdown",
      "source": [
        "As we can see that both Female and Male ratio has no significant differences."
      ],
      "metadata": {
        "id": "DDnYiL69sRoC"
      }
    },
    {
      "cell_type": "code",
      "source": [
        "#DATA VISUALIZATION - ANALYSIS ON FREQUENCY OF DEATH BASED ON AGE\n",
        "\n",
        "data03=df[(df['outcome']==1)]\n",
        "pd.crosstab(data03.age,data03.outcome).plot(kind='bar',figsize=(10,7))\n",
        "plt.title('Frequency of Death based on Age')\n",
        "plt.xlabel('Age')\n",
        "plt.ylabel('Frequency of Death')\n",
        "plt.show()\n"
      ],
      "metadata": {
        "colab": {
          "base_uri": "https://localhost:8080/",
          "height": 461
        },
        "id": "4AwE2ZlHsoFe",
        "outputId": "116c1939-98ed-4ba3-836c-c7b54401153c"
      },
      "execution_count": 71,
      "outputs": [
        {
          "output_type": "display_data",
          "data": {
            "image/png": "[encoded data removed]",
            "text/plain": [
              "<Figure size 720x504 with 1 Axes>"
            ]
          },
          "metadata": {
            "needs_background": "light"
          }
        }
      ]
    },
    {
      "cell_type": "markdown",
      "source": [
        "As we can see, the older the patient, the higher the mortality factor"
      ],
      "metadata": {
        "id": "kEP99KfZwqFr"
      }
    },
    {
      "cell_type": "code",
      "source": [
        "#DATA PRE-PROCESSING\n",
        "\n",
        "X=df.drop('outcome',1)\n",
        "y=df.outcome\n",
        "\n",
        "X=pd.get_dummies(X)\n",
        "df=pd.get_dummies(df)\n",
        "\n",
        "#X.head()\n",
        "\n",
        "from sklearn.model_selection import train_test_split\n",
        "x_train,x_test,y_train,y_test = train_test_split(X,y,test_size=0.2)"
      ],
      "metadata": {
        "id": "73WDsDAGhy1V"
      },
      "execution_count": 72,
      "outputs": []
    },
    {
      "cell_type": "code",
      "source": [
        "#PENDEFINISIAN MODEL\n",
        "\n",
        "## Import Random Forest Model\n",
        "from sklearn.ensemble import RandomForestClassifier\n",
        "\n",
        "## Create a Random Forest Classifier\n",
        "model=RandomForestClassifier()"
      ],
      "metadata": {
        "id": "z4OQ41cYiaQb"
      },
      "execution_count": 73,
      "outputs": []
    },
    {
      "cell_type": "markdown",
      "source": [
        "The reason why I choose Random Forest is because I need more accurate prediction"
      ],
      "metadata": {
        "id": "E3Vt1t7Q6vjg"
      }
    },
    {
      "cell_type": "code",
      "source": [
        "#Training the model using the training set\n",
        "model.fit(x_train,y_train)\n",
        "\n",
        "RandomForestClassifier(bootstrap=True,ccp_alpha=0.0,class_weight=None,criterion='gini',max_depth=None,max_features='auto',max_leaf_nodes=None,max_samples=None,min_impurity_decrease=0.0, min_samples_leaf=1,min_samples_split=2,min_weight_fraction_leaf=0.0,n_estimators=100,n_jobs=None,oob_score=False,random_state=None,verbose=0,warm_start=False)\n",
        "\n",
        "#Predict the response for the dataset\n",
        "y_pred=model.predict(x_test)"
      ],
      "metadata": {
        "id": "Dr39ZlIDjyoj"
      },
      "execution_count": 74,
      "outputs": []
    },
    {
      "cell_type": "code",
      "source": [
        "#Evaluating Model\n",
        "from sklearn.metrics import accuracy_score\n",
        "from sklearn.metrics import classification_report, confusion_matrix\n",
        "\n",
        "print(\"Accuracy :\",accuracy_score(y_test,y_pred))\n",
        "matrix=confusion_matrix(y_test,y_pred)\n",
        "print(matrix)\n",
        "print(classification_report(y_test,y_pred))"
      ],
      "metadata": {
        "id": "lYg30iAtLQQW",
        "outputId": "385f7f6a-96f2-4bb7-fed5-0a628fa1f0c6",
        "colab": {
          "base_uri": "https://localhost:8080/"
        }
      },
      "execution_count": 75,
      "outputs": [
        {
          "output_type": "stream",
          "name": "stdout",
          "text": [
            "Accuracy : 0.9186046511627907\n",
            "[[76  0]\n",
            " [ 7  3]]\n",
            "              precision    recall  f1-score   support\n",
            "\n",
            "         0.0       0.92      1.00      0.96        76\n",
            "         1.0       1.00      0.30      0.46        10\n",
            "\n",
            "    accuracy                           0.92        86\n",
            "   macro avg       0.96      0.65      0.71        86\n",
            "weighted avg       0.93      0.92      0.90        86\n",
            "\n"
          ]
        }
      ]
    },
    {
      "cell_type": "markdown",
      "source": [
        "As we can see, from this we got a classification rate of 91%"
      ],
      "metadata": {
        "id": "dd4PuHod7ANe"
      }
    },
    {
      "cell_type": "code",
      "source": [
        "#ViSUALIZATION CONFUSION MATRIX\n",
        "\n",
        "fig, ax=plt.subplots(figsize=(8,8))\n",
        "ax.imshow(matrix)\n",
        "ax.grid(False)\n",
        "ax.xaxis.set(ticks=(0,1),ticklabels=('Predicted 0s','Predicted 1s'))\n",
        "ax.yaxis.set(ticks=(0,1),ticklabels=('Actual 0s','Actual 1s'))\n",
        "ax.set_ylim(1.5,-0.5)\n",
        "for i in range(2):\n",
        "  for j in range (2) :\n",
        "    ax.text(j,i,matrix[i,j],ha='center',va='center',color='red')\n",
        "plt.show()"
      ],
      "metadata": {
        "colab": {
          "base_uri": "https://localhost:8080/",
          "height": 483
        },
        "id": "W1GQ5CnN5Jd4",
        "outputId": "777ce2dd-c109-44e8-cd74-e756a221bd4e"
      },
      "execution_count": 76,
      "outputs": [
        {
          "output_type": "display_data",
          "data": {
            "image/png": "[encoded data removed]",
            "text/plain": [
              "<Figure size 576x576 with 1 Axes>"
            ]
          },
          "metadata": {
            "needs_background": "light"
          }
        }
      ]
    },
    {
      "cell_type": "markdown",
      "source": [
        "From picture above, the conclusion are :\n",
        "\n",
        "\n",
        "1. We can see that we are getting 76 true positives. This corresponds to patients that alive and our model identified them correctly.\n",
        "2. We also get 1 true negative pairs. This means that our algorithm has discovered correctly 3 patients that death/passed away\n",
        "3. False positives represent the number of patients that our model classified as ones that alive but in reality, they are not. And we have 7 pairs of false positives.\n",
        "4. False negatives represent patients that death/passed away but our model predicted that they are not. We have 0 pairs of false negative.\n",
        "\n"
      ],
      "metadata": {
        "id": "LsBeHLRj8Wvl"
      }
    }
  ]
}